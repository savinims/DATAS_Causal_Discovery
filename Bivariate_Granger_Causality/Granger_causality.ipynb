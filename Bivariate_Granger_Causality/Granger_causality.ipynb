{
 "cells": [
  {
   "cell_type": "markdown",
   "metadata": {},
   "source": [
    "## Bivariate Granger Causality"
   ]
  },
  {
   "cell_type": "markdown",
   "metadata": {},
   "source": [
    "This notebook reproduces the bivariate Granger causality example provided in the journal paper,\n",
    "\n",
    "McGraw, M.C. and E.A. Barnes, 2018: **Memory Matters: A Case for Granger Causality in Climate Variability Studies**. J. Climate, 31, 3289–3300, https://doi.org/10.1175/JCLI-D-17-0334.1"
   ]
  },
  {
   "cell_type": "markdown",
   "metadata": {},
   "source": [
    "**Granger causality in a nutshell:**\n",
    "\n",
    "* Granger causality is based on the predictability of temporal variables. A time series $X = \\{{x_t}\\}_{t=1}^{T}$ is said to be a Granger cause of $Y = \\{{y_t}\\}_{t=1}^{T}$, if the past values of $X$  provide information about the current state of $Y$, beyond what is already known from the past values of $Y$, alone. \n",
    "\n",
    "* To determine Granger causality, we compare two prediction models\n",
    "    - **Unrestricted model:** A model where $Y$ is predicted using the past values of both $X$ and $Y$ \n",
    "    - **Restricted model:** A model where $Y$ is predicted using only the past values of $Y$. \n",
    "\n",
    "* Then a statistical test is carried out to determine whether the unrestricted model significantly improves the predictability of $Y$ compared to the restricted model.  If the predictability of $Y$ is significantly improved by the inclusion of $X$ in the model, $X$ is said to Granger cause $Y$.\n",
    "\n",
    "Additional details of the statistical tests can be found at https://support.sas.com/rnd/app/ets/examples/granger/index.htm."
   ]
  },
  {
   "cell_type": "markdown",
   "metadata": {},
   "source": [
    "Notebook created by Savini M. Samarasinghe, Colorado State University, Fort Collins, CO as part of the Data Analysis Tools for Atmospheric Scientists (DATAS) Gateway. October 2019.\n",
    "\n",
    "**Note:** Detailed explanations of this notebook will be added in the coming months."
   ]
  },
  {
   "cell_type": "code",
   "execution_count": 1,
   "metadata": {},
   "outputs": [],
   "source": [
    "import numpy as np\n",
    "import pandas as pd\n",
    "import matplotlib.pyplot as plt\n",
    "import scipy.stats as stats\n",
    "import statsmodels.api as sm "
   ]
  },
  {
   "cell_type": "markdown",
   "metadata": {},
   "source": [
    "### Generate Same Data"
   ]
  },
  {
   "cell_type": "markdown",
   "metadata": {},
   "source": [
    "$$D(t) = \\alpha D(t-1) + {(1 - \\alpha^2)}^{1/2}\\epsilon_D(t)$$ \n",
    "$$R(t) = D(t-\\tau)+ \\gamma \\epsilon_R(t)$$ "
   ]
  },
  {
   "cell_type": "code",
   "execution_count": 2,
   "metadata": {},
   "outputs": [],
   "source": [
    "def generate_sample_data(alpha, tau, gamma, num_samples, num_drop):\n",
    "\n",
    "    \"\"\"Generates D and R time series based on the given equations.\n",
    "    num_samples: number of samples in the generated time series\n",
    "    num_drop: number of samples dropped from the generated series to address initialization\n",
    "    \n",
    "    returns D and R time series each consisting (num_samples - num_drop) many samples\n",
    "    \"\"\"\n",
    "\n",
    "    assert num_drop < num_samples, 'Error: num_samples has to be greater than num_drop'\n",
    "    \n",
    "    # initialize the variables\n",
    "    d = np.empty(num_samples)\n",
    "    r = np.empty(num_samples)\n",
    "\n",
    "    e_d = np.random.normal(0,1,num_samples) # random values drawn from a standard normal distribution  \n",
    "    e_r = np.random.normal(0,1,num_samples)\n",
    "\n",
    "    # generate data\n",
    "    d[0] = e_d[0]\n",
    "    for i in range(1,num_samples):\n",
    "        d[i] = alpha*d[i-1] + np.sqrt((1-alpha**2))*e_d[i]\n",
    "\n",
    "    r[:tau] = e_r[:tau]\n",
    "    for i in range(tau,num_samples):\n",
    "        r[i] = d[i-tau] + gamma*e_r[i]\n",
    "\n",
    "    return [d[num_drop:],r[num_drop:]] # drop first few samples"
   ]
  },
  {
   "cell_type": "markdown",
   "metadata": {},
   "source": [
    "### Bivariate Granger Causality Test"
   ]
  },
  {
   "cell_type": "code",
   "execution_count": 3,
   "metadata": {},
   "outputs": [],
   "source": [
    "def bivariate_granger_causality(var_y, var_x, q, significance_level, standardize_data = True, verbose = True):\n",
    "  \n",
    "    \"\"\" \n",
    "    Tests whether var_x (X) Granger causes var_y (Y)\n",
    "    \n",
    "    Steps:\n",
    "    (1) Creates restricted and unrestricted regression models. \n",
    "    (2) Checks whether X significantly improves the predictability of Y using an F test.\n",
    "  \n",
    "    q: number of maximum lags for each predictor\n",
    "    significance_level: alpha value for statistical testing\n",
    "    verbose: set to True to print intermediate results\n",
    "\n",
    "    User has the option to standardize the data. \"\"\"\n",
    "    \n",
    "    \n",
    "    def standardize_data(data):\n",
    "\n",
    "        \"\"\"Standardizes each column of the data matrix\"\"\"\n",
    "\n",
    "        means = data.mean(axis=0)\n",
    "        stds = data.std(axis=0)\n",
    "\n",
    "        return (data - means) / stds \n",
    "\n",
    "    def create_restricted_unrestricted_models():\n",
    "        \n",
    "        \"\"\"\n",
    "        Restricted model: predicts Y using the past of Y\n",
    "        Unrestricted model: predicts Y using the past of Y and X\n",
    "        \"\"\"\n",
    "        \n",
    "        time_series_len = len(var_y)\n",
    "        restricted_model_predictors = np.empty((time_series_len-q,q))\n",
    "        unrestricted_model_predictors = np.empty((time_series_len-q,q*2))\n",
    "\n",
    "        # lagged predictors of the restricted model\n",
    "        for i in range(q):\n",
    "            restricted_model_predictors[:,q-i-1] = var_y.shift(-i)[:-q]\n",
    "\n",
    "        # lagged predictors of the unrestricted model    \n",
    "        for i in range(q):\n",
    "            unrestricted_model_predictors[:,q-i-1] = var_y.shift(-i)[:-q]\n",
    "            unrestricted_model_predictors[:,2*q-i-1] = var_x.shift(-i)[:-q]\n",
    "\n",
    "        predictand = var_y.shift(-q)[:-q][:,np.newaxis] # variable to be predicted\n",
    "\n",
    "        if(standardize_data):\n",
    "            restricted_model_predictors = standardize_data(restricted_model_predictors)\n",
    "            unrestricted_model_predictors = standardize_data(unrestricted_model_predictors)\n",
    "            predictand = standardize_data(predictand)\n",
    "    \n",
    "        # stack a column of ones to calculate model intercept\n",
    "        restricted_model_predictors = np.hstack((np.ones((time_series_len-q,1)),restricted_model_predictors)) \n",
    "        unrestricted_model_predictors = np.hstack((np.ones((time_series_len-q,1)),unrestricted_model_predictors))\n",
    "\n",
    "        # fit the restricted and unrestricted linear regression models using ordinary least squares approach\n",
    "        reg_restricted =  sm.OLS(predictand,restricted_model_predictors).fit()\n",
    "        reg_unrestricted = sm.OLS(predictand,unrestricted_model_predictors).fit()\n",
    "        \n",
    "        if(verbose):\n",
    "            print('Testing for bivariate Granger causality.')\n",
    "            print('Restricted Model:')\n",
    "            print('p-value of the F-test for a joint linear hypothesis = {}'.format(reg_restricted.f_pvalue))\n",
    "            print('R squared value of the model = {}'.format(reg_restricted.rsquared))\n",
    "            #print(reg_restricted.summary())\n",
    "            print('--------------------------------------------------------------------------------------------')\n",
    "            print('Unrestricted Model:')\n",
    "            print('p-value of the F-test for a joint linear hypothesis = {}'.format(reg_unrestricted.f_pvalue))\n",
    "            print('R squared value of the model = {}'.format(reg_unrestricted.rsquared))\n",
    "            #print(reg_unrestricted.summary())\n",
    "\n",
    "        \n",
    "        return reg_restricted, reg_unrestricted, predictand, restricted_model_predictors, unrestricted_model_predictors\n",
    "        \n",
    "    def evaluate_F_test_on_null_hypothesis(reg_restricted, reg_unrestricted, predictand, restricted_model_predictors, \n",
    "    unrestricted_model_predictors, significance_level):\n",
    "        \n",
    "        \"\"\"Compares the sum of squares of residuals of the unrestricted model with the restricted model using an F test\"\"\"\n",
    "        \n",
    "        # residuals of the restricted and unrestricted models        \n",
    "        restricted_model_residuals = predictand - reg_restricted.predict(restricted_model_predictors)[:,np.newaxis]\n",
    "        unrestricted_model_residuals = predictand  - reg_unrestricted.predict(unrestricted_model_predictors)[:,np.newaxis]\n",
    "        \n",
    "        time_series_len = len(var_y)\n",
    "        # degrees of freedom\n",
    "        df_num = max_lags \n",
    "        df_den = (time_series_len - 2*max_lags - 1)\n",
    "        \n",
    "        F_num = (np.nansum(restricted_model_residuals**2) - np.nansum(unrestricted_model_residuals**2))/df_num\n",
    "        F_den = np.nansum(unrestricted_model_residuals**2)/df_den\n",
    "                \n",
    "        test_stat = F_num/F_den # test statistic\n",
    "        F_crit = stats.f.ppf(q=1-significance_level, dfn=df_num, dfd=df_den) # critical value\n",
    "            \n",
    "        if(test_stat>F_crit):\n",
    "            granger_cause = 1\n",
    "            if(verbose):\n",
    "                print('--------------------------------------------------------------------------------------------')      \n",
    "                print('F test: Test statistic = {}, Critical value = {}'.format(test_stat,F_crit))\n",
    "                print('Reject null hypothesis.')\n",
    "        else:\n",
    "            granger_cause = 0\n",
    "            if(verbose):\n",
    "                print('--------------------------------------------------------------------------------------------')      \n",
    "                print('F test: Test statistic = {}, Critical value = {}'.format(test_stat,F_crit))  \n",
    "                print('Fail to reject null hypothesis.')  \n",
    "        return granger_cause\n",
    "            \n",
    "    reg_restricted, reg_unrestricted, predictand, restricted_model_predictors,unrestricted_model_predictors = create_restricted_unrestricted_models()\n",
    "    granger_cause = evaluate_F_test_on_null_hypothesis(reg_restricted, reg_unrestricted, predictand, \n",
    "                                                       restricted_model_predictors,unrestricted_model_predictors, \n",
    "                                                       significance_level)\n",
    "           \n",
    "    return granger_cause, reg_unrestricted"
   ]
  },
  {
   "cell_type": "markdown",
   "metadata": {},
   "source": [
    "### Example"
   ]
  },
  {
   "cell_type": "markdown",
   "metadata": {},
   "source": [
    "The null hypothesis states that the variable is not a Granger cause."
   ]
  },
  {
   "cell_type": "code",
   "execution_count": 4,
   "metadata": {},
   "outputs": [],
   "source": [
    "[D,R] = generate_sample_data(alpha = 0.7, tau = 6, gamma = 0.3, num_samples = 550, num_drop = 50)"
   ]
  },
  {
   "cell_type": "code",
   "execution_count": 5,
   "metadata": {},
   "outputs": [],
   "source": [
    "max_lags = 8 # maximum number of lags\n",
    "significance_level = 0.05 # alpha value for statistical testing\n",
    "standardize_data = True\n",
    "verbose = True # set to True to print intermediate results"
   ]
  },
  {
   "cell_type": "markdown",
   "metadata": {},
   "source": [
    "### Does R cause D?"
   ]
  },
  {
   "cell_type": "code",
   "execution_count": 6,
   "metadata": {
    "scrolled": false
   },
   "outputs": [
    {
     "name": "stdout",
     "output_type": "stream",
     "text": [
      "Testing for bivariate Granger causality.\n",
      "Restricted Model:\n",
      "p-value of the F-test for a joint linear hypothesis = 6.04260374461512e-83\n",
      "R squared value of the model = 0.5673199570808539\n",
      "--------------------------------------------------------------------------------------------\n",
      "Unrestricted Model:\n",
      "p-value of the F-test for a joint linear hypothesis = 1.4427882611534828e-77\n",
      "R squared value of the model = 0.5745289796512507\n",
      "--------------------------------------------------------------------------------------------\n",
      "F test: Test statistic = 1.02297152302157, Critical value = 1.9575664404591402\n",
      "Fail to reject null hypothesis.\n"
     ]
    }
   ],
   "source": [
    "granger_cause_RD, reg_unrestricted_RD = bivariate_granger_causality(var_y = pd.Series(D),var_x = pd.Series(R),q = max_lags, \n",
    "                                        significance_level = significance_level, standardize_data = standardize_data, \n",
    "                                                                    verbose = verbose) # does R cause D?"
   ]
  },
  {
   "cell_type": "markdown",
   "metadata": {},
   "source": [
    "### Does D cause R?"
   ]
  },
  {
   "cell_type": "code",
   "execution_count": 7,
   "metadata": {
    "scrolled": true
   },
   "outputs": [
    {
     "name": "stdout",
     "output_type": "stream",
     "text": [
      "Testing for bivariate Granger causality.\n",
      "Restricted Model:\n",
      "p-value of the F-test for a joint linear hypothesis = 7.888578623681349e-71\n",
      "R squared value of the model = 0.5137419632456148\n",
      "--------------------------------------------------------------------------------------------\n",
      "Unrestricted Model:\n",
      "p-value of the F-test for a joint linear hypothesis = 3.593635336532506e-272\n",
      "R squared value of the model = 0.936427495493856\n",
      "--------------------------------------------------------------------------------------------\n",
      "F test: Test statistic = 401.4257296882361, Critical value = 1.9575664404591402\n",
      "Reject null hypothesis.\n"
     ]
    }
   ],
   "source": [
    "granger_cause_DR, reg_unrestricted_DR =bivariate_granger_causality(var_y = pd.Series(R),var_x = pd.Series(D),q = max_lags, \n",
    "                                       significance_level = significance_level, standardize_data = standardize_data, \n",
    "                                                                   verbose = verbose) # does D cause R?"
   ]
  },
  {
   "cell_type": "markdown",
   "metadata": {},
   "source": [
    "i.e., D Granger causes R"
   ]
  },
  {
   "cell_type": "markdown",
   "metadata": {},
   "source": [
    "### Regression coefficients of the unrestricted model to identify significant coefficients (optional)"
   ]
  },
  {
   "cell_type": "code",
   "execution_count": 8,
   "metadata": {},
   "outputs": [
    {
     "name": "stdout",
     "output_type": "stream",
     "text": [
      "                            OLS Regression Results                            \n",
      "==============================================================================\n",
      "Dep. Variable:                      y   R-squared:                       0.936\n",
      "Model:                            OLS   Adj. R-squared:                  0.934\n",
      "Method:                 Least Squares   F-statistic:                     437.3\n",
      "Date:                Thu, 10 Oct 2019   Prob (F-statistic):          3.59e-272\n",
      "Time:                        15:33:03   Log-Likelihood:                -20.246\n",
      "No. Observations:                 492   AIC:                             74.49\n",
      "Df Residuals:                     475   BIC:                             145.9\n",
      "Df Model:                          16                                         \n",
      "Covariance Type:            nonrobust                                         \n",
      "==============================================================================\n",
      "                 coef    std err          t      P>|t|      [0.025      0.975]\n",
      "------------------------------------------------------------------------------\n",
      "const       1.041e-17      0.012      9e-16      1.000      -0.023       0.023\n",
      "x1             0.0009      0.046      0.020      0.984      -0.089       0.091\n",
      "x2            -0.0170      0.046     -0.370      0.712      -0.107       0.073\n",
      "x3             0.0316      0.020      1.562      0.119      -0.008       0.071\n",
      "x4            -0.0165      0.020     -0.832      0.406      -0.055       0.022\n",
      "x5            -0.0023      0.020     -0.118      0.906      -0.041       0.037\n",
      "x6            -0.0186      0.020     -0.942      0.346      -0.057       0.020\n",
      "x7             0.0066      0.020      0.334      0.738      -0.032       0.046\n",
      "x8             0.0083      0.017      0.493      0.623      -0.025       0.041\n",
      "x9            -0.0148      0.018     -0.839      0.402      -0.050       0.020\n",
      "x10           -0.0191      0.022     -0.865      0.387      -0.062       0.024\n",
      "x11            0.0436      0.022      1.981      0.048       0.000       0.087\n",
      "x12            0.0129      0.022      0.585      0.559      -0.030       0.056\n",
      "x13           -0.0068      0.022     -0.309      0.758      -0.050       0.036\n",
      "x14            0.9536      0.022     43.444      0.000       0.910       0.997\n",
      "x15           -0.0155      0.049     -0.317      0.751      -0.112       0.081\n",
      "x16            0.0275      0.049      0.564      0.573      -0.068       0.123\n",
      "==============================================================================\n",
      "Omnibus:                        4.150   Durbin-Watson:                   1.996\n",
      "Prob(Omnibus):                  0.126   Jarque-Bera (JB):                3.954\n",
      "Skew:                           0.185   Prob(JB):                        0.138\n",
      "Kurtosis:                       3.238   Cond. No.                         14.8\n",
      "==============================================================================\n",
      "\n",
      "Warnings:\n",
      "[1] Standard Errors assume that the covariance matrix of the errors is correctly specified.\n"
     ]
    }
   ],
   "source": [
    "print(reg_unrestricted_DR.summary())"
   ]
  },
  {
   "cell_type": "markdown",
   "metadata": {},
   "source": [
    "### Monte Carlo Simulation"
   ]
  },
  {
   "cell_type": "code",
   "execution_count": 9,
   "metadata": {},
   "outputs": [],
   "source": [
    "num_monte_carlo = 100 # number of simulations\n",
    "num_steps = 20\n",
    "alpha = np.linspace(0,0.95,num_steps) \n",
    "gamma = np.linspace(0.005,10,num_steps) \n",
    "max_lags = 8 # maximum number of lags\n",
    "significance_level = 0.05 # alpha value for statistical testing\n",
    "standardize_data = True\n",
    "verbose = False # set to True to see the intermediate steps printed out"
   ]
  },
  {
   "cell_type": "code",
   "execution_count": 10,
   "metadata": {},
   "outputs": [],
   "source": [
    "causality_map_DR = np.zeros((len(alpha),len(gamma)))\n",
    "causality_map_RD = np.zeros((len(alpha),len(gamma)))\n",
    "\n",
    "for i in range(len(alpha)):\n",
    "    for j in range(len(gamma)):\n",
    "        \n",
    "        granger_cause_RD_overall = 0\n",
    "        granger_cause_DR_overall = 0\n",
    "        \n",
    "        for simulation in range(num_monte_carlo):\n",
    "            [D,R] = generate_sample_data(alpha = alpha[i], tau = 1, gamma = gamma[j], num_samples = 550, num_drop = 50)\n",
    "            \n",
    "            try:\n",
    "                # does R cause D?\n",
    "                granger_cause_RD, reg_unrestricted_RD = bivariate_granger_causality(var_y = pd.Series(D),\n",
    "                                                    var_x = pd.Series(R),q = max_lags, \n",
    "                                                    significance_level = significance_level,\n",
    "                                                    standardize_data = standardize_data, verbose = verbose) \n",
    "                if(granger_cause_RD == 1):\n",
    "                    granger_cause_RD_overall += granger_cause_RD\n",
    "\n",
    "                # does D cause R?\n",
    "                granger_cause_DR, reg_unrestricted_DR =bivariate_granger_causality(var_y = pd.Series(R),\n",
    "                                                    var_x = pd.Series(D),q = max_lags, \n",
    "                                                    significance_level = significance_level, \n",
    "                                                    standardize_data = standardize_data, verbose = verbose) \n",
    "                if(granger_cause_DR == 1):\n",
    "                    granger_cause_DR_overall += granger_cause_DR\n",
    "            except:\n",
    "                print(\"An exception occurred at alpha {} and gamma {}\".format(alpha[i],gamma[j]))\n",
    "            \n",
    "        causality_map_DR[i,j] = np.copy(granger_cause_DR_overall)\n",
    "        causality_map_RD[i,j] = np.copy(granger_cause_RD_overall)\n"
   ]
  },
  {
   "cell_type": "code",
   "execution_count": 11,
   "metadata": {},
   "outputs": [],
   "source": [
    "def visualize_monte_carlo_results(gamma, alpha, causality_map,num_monte_carlo):\n",
    "    \n",
    "    fig = plt.figure(figsize=(6,5))\n",
    "    gamma_grid, alpha_grid = np.meshgrid(gamma, alpha)\n",
    "    cp = plt.pcolor(gamma_grid, alpha_grid, causality_map*100/num_monte_carlo, cmap='pink_r')\n",
    "    plt.xlabel('gamma')\n",
    "    plt.ylabel('alpha')\n",
    "    cbar = plt.colorbar(cp)\n",
    "    cbar.ax.set_ylabel('%')\n",
    "    plt.clim((0,100))\n",
    "    plt.show()"
   ]
  },
  {
   "cell_type": "markdown",
   "metadata": {},
   "source": [
    "### Does D cause R?"
   ]
  },
  {
   "cell_type": "code",
   "execution_count": 12,
   "metadata": {},
   "outputs": [
    {
     "data": {
      "image/png": "[encoded data removed]",
      "text/plain": [
       "<Figure size 432x360 with 2 Axes>"
      ]
     },
     "metadata": {
      "needs_background": "light"
     },
     "output_type": "display_data"
    }
   ],
   "source": [
    "visualize_monte_carlo_results(gamma, alpha, causality_map_DR,num_monte_carlo)"
   ]
  },
  {
   "cell_type": "markdown",
   "metadata": {},
   "source": [
    "### Does R cause D?"
   ]
  },
  {
   "cell_type": "code",
   "execution_count": 13,
   "metadata": {
    "scrolled": true
   },
   "outputs": [
    {
     "data": {
      "image/png": "[encoded data removed]",
      "text/plain": [
       "<Figure size 432x360 with 2 Axes>"
      ]
     },
     "metadata": {
      "needs_background": "light"
     },
     "output_type": "display_data"
    }
   ],
   "source": [
    "visualize_monte_carlo_results(gamma, alpha, causality_map_RD,num_monte_carlo)"
   ]
  }
 ],
 "metadata": {
  "kernelspec": {
   "display_name": "Python 3",
   "language": "python",
   "name": "python3"
  },
  "language_info": {
   "codemirror_mode": {
    "name": "ipython",
    "version": 3
   },
   "file_extension": ".py",
   "mimetype": "text/x-python",
   "name": "python",
   "nbconvert_exporter": "python",
   "pygments_lexer": "ipython3",
   "version": "3.7.1"
  }
 },
 "nbformat": 4,
 "nbformat_minor": 2
}
