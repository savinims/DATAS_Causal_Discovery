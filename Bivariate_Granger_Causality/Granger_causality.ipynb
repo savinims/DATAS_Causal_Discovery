{
 "cells": [
  {
   "cell_type": "markdown",
   "metadata": {},
   "source": [
    "## Bivariate Granger Causality"
   ]
  },
  {
   "cell_type": "markdown",
   "metadata": {},
   "source": [
    "This notebook reproduces the bivariate Granger causality example provided in the journal paper,\n",
    "\n",
    "McGraw, M.C. and E.A. Barnes, 2018: **Memory Matters: A Case for Granger Causality in Climate Variability Studies**. J. Climate, 31, 3289–3300, https://doi.org/10.1175/JCLI-D-17-0334.1\n",
    "\n",
    "**Granger causality in a nutshell:**\n",
    "\n",
    "* Granger causality is based on the predictability of temporal variables. A time series $X = \\{{x_t}\\}_{t=1}^{T}$ is said to be a Granger cause of $Y = \\{{y_t}\\}_{t=1}^{T}$, if the past values of $X$  provide information about the current state of $Y,$ beyond what is already known from the past values of $Y,$ alone. \n",
    "\n",
    "\n",
    "* To determine Granger causality, we compare two prediction models:\n",
    "    - **Restricted model:** A model where $Y$ is predicted using only the past values of $Y$. \n",
    "    - **Unrestricted model:** A model where $Y$ is predicted using the past values of both $X$ and $Y.$ \n",
    "    \n",
    "\n",
    "* Then a statistical test is carried out to determine whether the unrestricted model significantly improves the predictability of $Y$ compared to the restricted model.  If the predictability of $Y$ is significantly improved by the inclusion of $X$ in the model, $X$ is said to Granger cause $Y$.\n",
    "\n",
    "In this notebook, we generate sample data based on the paper by McGraw and Barnes (2018) and apply the bivariate Granger causality test to identify potential cause-effect relationships."
   ]
  },
  {
   "cell_type": "markdown",
   "metadata": {},
   "source": [
    "This notebook was created by Savini M. Samarasinghe of Colorado State University with the suggestions from Marie C. McGraw of the University of Washington. This is part of the Data Analysis Tools for Atmospheric Scientists ([DATAS](https://datasgateway.colostate.edu/)) Gateway. November 2019. \n"
   ]
  },
  {
   "cell_type": "code",
   "execution_count": 1,
   "metadata": {},
   "outputs": [],
   "source": [
    "import numpy as np\n",
    "import pandas as pd\n",
    "import matplotlib.pyplot as plt\n",
    "import scipy.stats as stats\n",
    "import statsmodels.api as sm "
   ]
  },
  {
   "cell_type": "markdown",
   "metadata": {},
   "source": [
    "### Generate Sample Data"
   ]
  },
  {
   "cell_type": "markdown",
   "metadata": {},
   "source": [
    "As the first step we generate sample data of two variables, a driver $D$ and a response $R$ that are based on the equations below."
   ]
  },
  {
   "cell_type": "markdown",
   "metadata": {},
   "source": [
    "\\begin{equation}\n",
    "D(t) = \\alpha D(t-1) + {(1 - \\alpha^2)}^{1/2}\\epsilon_D(t)\n",
    "\\end{equation}\n",
    "\\begin{equation}\n",
    "R(t) = D(t-\\tau)+ \\gamma \\epsilon_R(t)\n",
    "\\end{equation}"
   ]
  },
  {
   "cell_type": "markdown",
   "metadata": {},
   "source": [
    "As stated in the paper, $\\alpha$ is the lag-1 autocorrelation and $\\epsilon_D$ is a random value drawn from a standard normal distribution. The driving variable $D$ has a variance of one. The response variable $R$ is created by lagging $D$ by some amount of time $\\tau >0$, with added Gaussian noise $\\epsilon_R$. The parameter $\\gamma$ controls the amount of additional noise added to $R$. We call the `generate_sample_data` function below with suitable parameters to generate sample data."
   ]
  },
  {
   "cell_type": "code",
   "execution_count": 2,
   "metadata": {},
   "outputs": [],
   "source": [
    "def generate_sample_data(alpha, tau, gamma, num_samples, num_drop):\n",
    "\n",
    "    \"\"\"Generates D and R time series based on the given equations.\n",
    "    num_samples: number of samples in the generated time series\n",
    "    num_drop: number of samples dropped from the generated series to address initialization\n",
    "    \n",
    "    returns D and R time series each consisting (num_samples - num_drop) many samples\n",
    "    \"\"\"\n",
    "\n",
    "    assert num_drop < num_samples, 'Error: num_samples has to be greater than num_drop'\n",
    "    \n",
    "    # initialize the variables\n",
    "    d = np.empty(num_samples)\n",
    "    r = np.empty(num_samples)\n",
    "\n",
    "    e_d = np.random.normal(0,1,num_samples) # random values drawn from a standard normal distribution  \n",
    "    e_r = np.random.normal(0,1,num_samples)\n",
    "\n",
    "    # generate data\n",
    "    d[0] = e_d[0]\n",
    "    for i in range(1,num_samples):\n",
    "        d[i] = alpha*d[i-1] + np.sqrt((1-alpha**2))*e_d[i]\n",
    "\n",
    "    r[:tau] = e_r[:tau]\n",
    "    for i in range(tau,num_samples):\n",
    "        r[i] = d[i-tau] + gamma*e_r[i]\n",
    "\n",
    "    return [d[num_drop:],r[num_drop:]] # drop first few samples"
   ]
  },
  {
   "cell_type": "markdown",
   "metadata": {},
   "source": [
    "### Bivariate Granger Causality Test"
   ]
  },
  {
   "cell_type": "markdown",
   "metadata": {},
   "source": [
    "As mentioned before, we need to compare two prediction models - a restricted vs. an unrestricted model to identify a Granger cause. For the prediction model, a suitable linear or nonlinear model can be used. In this notebook, we use lagged linear regression models resulting in two models as follows,\n",
    " \n",
    "\\begin{equation}\n",
    "\\mbox{Restricted model:} \\quad y_t = \\gamma + b_1 y_{t-1} + b_2 y_{t-2}+ \\ldots + b_s y_{t-s} + e_r\n",
    "\\label{restricted_eq} \n",
    "\\end{equation}\n",
    "\\begin{equation}\n",
    "\\mbox{Unrestricted model:} \\quad y_t = \\beta + a_1 y_{t-1} + a_2 y_{t-2}+ \\ldots + a_s y_{t-s} + c_1 x_{t-1} + c_2 x_{t-2}+ \\ldots + c_p x_{t-p} + e_u\n",
    "\\label{unrestricted_eq} \n",
    "\\end{equation}\n",
    "\n",
    "Here $a_i$, $b_i$ (for integer $i \\in [1,s] $) and $c_j$ (for integer $j \\in [1,p]$) are scalar regression coefficients and $\\beta$ and $\\gamma$ are model intercepts. \n",
    "$s$ is the maximum lag of $Y$ and $p$ is the maximum lag of $X$ used for prediction. $e_r$ and $e_u$ are the error terms of the restricted and unrestricted models respectively. **For simplicity, we use the same number of lags for each variable, i.e., $s=p$.**\n",
    "\n",
    "To identify the suitable number of lags, we can use information criteria such as AIC or BIC or use an appropriate cross-validation scheme. The `bivariate_granger_casuality` function below creates restricted and unrestricted linear lagged regression models by finding the Ordinary Least Squares (OLS) solutions and compares them statistically using an F-test."
   ]
  },
  {
   "cell_type": "code",
   "execution_count": 3,
   "metadata": {},
   "outputs": [],
   "source": [
    "def bivariate_granger_causality(var_y, var_x, q, significance_level, standardize_data = True, verbose = True):\n",
    "  \n",
    "    \"\"\" \n",
    "    Tests whether var_x (X) Granger causes var_y (Y)\n",
    "    \n",
    "    Steps:\n",
    "    (1) Creates restricted and unrestricted regression models. \n",
    "    (2) Checks whether X significantly improves the predictability of Y using an F test.\n",
    "  \n",
    "    q: number of maximum lags\n",
    "    significance_level: alpha value for statistical testing\n",
    "    verbose: set to True to print intermediate results\n",
    "\n",
    "    User has the option to standardize the data. \"\"\"\n",
    "    \n",
    "    \n",
    "    def standardize_data(data):\n",
    "\n",
    "        \"\"\"Standardizes each column of the data matrix\"\"\"\n",
    "\n",
    "        means = data.mean(axis=0)\n",
    "        stds = data.std(axis=0)\n",
    "\n",
    "        return (data - means) / stds \n",
    "\n",
    "    def create_restricted_unrestricted_models():\n",
    "        \n",
    "        \"\"\"\n",
    "        Restricted model: predicts Y using the past of Y\n",
    "        Unrestricted model: predicts Y using the past of Y and X\n",
    "        \"\"\"\n",
    "        \n",
    "        time_series_len = len(var_y)\n",
    "        restricted_model_predictors = np.empty((time_series_len-q,q))\n",
    "        unrestricted_model_predictors = np.empty((time_series_len-q,q*2))\n",
    "\n",
    "        # lagged predictors of the restricted model\n",
    "        for i in range(q):\n",
    "            restricted_model_predictors[:,q-i-1] = var_y.shift(-i)[:-q]\n",
    "\n",
    "        # lagged predictors of the unrestricted model    \n",
    "        for i in range(q):\n",
    "            unrestricted_model_predictors[:,q-i-1] = var_y.shift(-i)[:-q]\n",
    "            unrestricted_model_predictors[:,2*q-i-1] = var_x.shift(-i)[:-q]\n",
    "\n",
    "        predictand = var_y.shift(-q)[:-q][:,np.newaxis] # variable to be predicted\n",
    "\n",
    "        if(standardize_data):\n",
    "            restricted_model_predictors = standardize_data(restricted_model_predictors)\n",
    "            unrestricted_model_predictors = standardize_data(unrestricted_model_predictors)\n",
    "            predictand = standardize_data(predictand)\n",
    "    \n",
    "        # stack a column of ones to calculate model intercept\n",
    "        restricted_model_predictors = np.hstack((np.ones((time_series_len-q,1)),restricted_model_predictors)) \n",
    "        unrestricted_model_predictors = np.hstack((np.ones((time_series_len-q,1)),unrestricted_model_predictors))\n",
    "\n",
    "        # fit the restricted and unrestricted linear regression models using ordinary least squares approach\n",
    "        reg_restricted =  sm.OLS(predictand,restricted_model_predictors).fit()\n",
    "        reg_unrestricted = sm.OLS(predictand,unrestricted_model_predictors).fit()\n",
    "        \n",
    "        if(verbose):\n",
    "            print('Testing for bivariate Granger causality.')\n",
    "            print('Restricted Model:')\n",
    "            print('p-value of the F-test for a joint linear hypothesis = {}'.format(reg_restricted.f_pvalue))\n",
    "            print('R squared value of the model = {}'.format(reg_restricted.rsquared))\n",
    "            #print(reg_restricted.summary())\n",
    "            print('--------------------------------------------------------------------------------------------')\n",
    "            print('Unrestricted Model:')\n",
    "            print('p-value of the F-test for a joint linear hypothesis = {}'.format(reg_unrestricted.f_pvalue))\n",
    "            print('R squared value of the model = {}'.format(reg_unrestricted.rsquared))\n",
    "            #print(reg_unrestricted.summary())\n",
    "\n",
    "        \n",
    "        return reg_restricted, reg_unrestricted, predictand, restricted_model_predictors, unrestricted_model_predictors\n",
    "        \n",
    "    def evaluate_F_test_on_null_hypothesis(reg_restricted, reg_unrestricted, predictand, restricted_model_predictors, \n",
    "    unrestricted_model_predictors, significance_level):\n",
    "        \n",
    "        \"\"\"Compares the sum of squares of residuals of the unrestricted model with the restricted model using an F test\"\"\"\n",
    "        \n",
    "        # residuals of the restricted and unrestricted models        \n",
    "        restricted_model_residuals = predictand - reg_restricted.predict(restricted_model_predictors)[:,np.newaxis]\n",
    "        unrestricted_model_residuals = predictand  - reg_unrestricted.predict(unrestricted_model_predictors)[:,np.newaxis]\n",
    "        \n",
    "        time_series_len = len(predictand)\n",
    "        # degrees of freedom\n",
    "        df_num = max_lags \n",
    "        df_den = (time_series_len - 2*max_lags - 1)\n",
    "        \n",
    "        F_num = (np.nansum(restricted_model_residuals**2) - np.nansum(unrestricted_model_residuals**2))/df_num\n",
    "        F_den = np.nansum(unrestricted_model_residuals**2)/df_den\n",
    "                \n",
    "        test_stat = F_num/F_den # test statistic\n",
    "        F_crit = stats.f.ppf(q=1-significance_level, dfn=df_num, dfd=df_den) # critical value\n",
    "            \n",
    "        if(test_stat>F_crit):\n",
    "            granger_cause = 1\n",
    "            if(verbose):\n",
    "                print('--------------------------------------------------------------------------------------------')      \n",
    "                print('F test: Test statistic = {}, Critical value = {}'.format(test_stat,F_crit))\n",
    "                print('Reject null hypothesis.')\n",
    "        else:\n",
    "            granger_cause = 0\n",
    "            if(verbose):\n",
    "                print('--------------------------------------------------------------------------------------------')      \n",
    "                print('F test: Test statistic = {}, Critical value = {}'.format(test_stat,F_crit))  \n",
    "                print('Fail to reject null hypothesis.')  \n",
    "        return granger_cause\n",
    "            \n",
    "    reg_restricted, reg_unrestricted, predictand, restricted_model_predictors,unrestricted_model_predictors = create_restricted_unrestricted_models()\n",
    "    granger_cause = evaluate_F_test_on_null_hypothesis(reg_restricted, reg_unrestricted, predictand, \n",
    "                                                       restricted_model_predictors,unrestricted_model_predictors, \n",
    "                                                       significance_level)\n",
    "           \n",
    "    return granger_cause, reg_unrestricted"
   ]
  },
  {
   "cell_type": "markdown",
   "metadata": {},
   "source": [
    "### Statistical Test\n",
    "\n",
    "As mentioned before, we use a statistical test to determine whether the unrestricted model significantly improves the predictability of $Y$ compared to the restricted model.\n",
    "\n",
    "\\begin{equation}\n",
    "\\mbox{Restricted model:} \\quad y_t = \\gamma + b_1 y_{t-1} + b_2 y_{t-2}+ \\ldots + b_s y_{t-s} + e_r\n",
    "\\end{equation}\n",
    "\\begin{equation}\n",
    "\\mbox{Unrestricted model:} \\quad y_t = \\beta + a_1 y_{t-1} + a_2 y_{t-2}+ \\ldots + a_s y_{t-s} + c_1 x_{t-1} + c_2 x_{t-2}+ \\ldots + c_p x_{t-p} + e_u\n",
    "\n",
    "\\end{equation}\n",
    "\n",
    "$X$ is not a Granger cause of $Y$ if all the regression coefficients related to $X$, i.e., $c_1,\\ldots,c_p$, are equal to zero. In other words, this is when X does not significantly contribute to the predictability of $Y$.\n",
    "\n",
    "Thus the null-hypothesis for non-causality is $H_0:c_1 = c_2 = \\ldots = c_p = 0$\n",
    "\n",
    "To test this null-hypothesis we calculate the following test statistic (Attanasio, A, 2012),\n",
    "\n",
    "\\begin{equation}\n",
    "\\mbox{Test statistic} = \\large{\\frac{\\frac{RSS_{r} - RSS_{u}}{q}}{\\frac{RSS_{u}}{T-m}}}\n",
    "\\end{equation}\n",
    "\n",
    "where \n",
    "* $RSS_{r}$ and $RSS_{u}$ are the residual sum of squares of the restricted and unrestricted models respectively.\n",
    "* $q$: number of coefficients restricted to zero, i.e., $q = p$.\n",
    "* $T$: number of observations.\n",
    "* $m$: number of coefficients in the unrestricted model, i.e., $m = p+s+1$. (Note that $s=p$ in our implementation.)\n",
    "\n",
    "\n",
    "Under the assumption that the time series are stationary, the test statistics asymptotically\n",
    "has a $F(q, T − m)$ distribution under $H_0$.\n",
    "If the test statistic is greater than a specified critical value, i.e., when there is a significant statistic, the null hypothesis of noncausality is rejected (Attanasio, A, 2012).\n",
    "\n",
    "\n",
    "\n"
   ]
  },
  {
   "cell_type": "markdown",
   "metadata": {},
   "source": [
    "### Example"
   ]
  },
  {
   "cell_type": "markdown",
   "metadata": {},
   "source": [
    "Based on the equations for D and R, we expect the following relationships to hold,\n",
    "* D Granger causes R.\n",
    "* R does not Granger cause D.\n",
    "\n",
    "Now we check whether the bivariate Granger causality test can identify these relationships correctly."
   ]
  },
  {
   "cell_type": "code",
   "execution_count": 4,
   "metadata": {},
   "outputs": [],
   "source": [
    "[D,R] = generate_sample_data(alpha = 0.7, tau = 1, gamma = 0.3, num_samples = 550, num_drop = 50)"
   ]
  },
  {
   "cell_type": "code",
   "execution_count": 5,
   "metadata": {},
   "outputs": [],
   "source": [
    "max_lags = 3 # maximum number of lags\n",
    "significance_level = 0.05 # alpha value for statistical testing\n",
    "standardize_data = True\n",
    "verbose = True # set to True to print intermediate results"
   ]
  },
  {
   "cell_type": "markdown",
   "metadata": {},
   "source": [
    "**First we check whether D causes R.**"
   ]
  },
  {
   "cell_type": "code",
   "execution_count": 6,
   "metadata": {},
   "outputs": [
    {
     "name": "stdout",
     "output_type": "stream",
     "text": [
      "Testing for bivariate Granger causality.\n",
      "Restricted Model:\n",
      "p-value of the F-test for a joint linear hypothesis = 7.410590762672084e-56\n",
      "R squared value of the model = 0.40834968192245313\n",
      "--------------------------------------------------------------------------------------------\n",
      "Unrestricted Model:\n",
      "p-value of the F-test for a joint linear hypothesis = 7.006593356012958e-266\n",
      "R squared value of the model = 0.9206161017955311\n",
      "--------------------------------------------------------------------------------------------\n",
      "F test: Test statistic = 1053.9943717187286, Critical value = 2.6231001100089393\n",
      "Reject null hypothesis.\n"
     ]
    }
   ],
   "source": [
    "granger_cause_DR, reg_unrestricted_DR =bivariate_granger_causality(var_y = pd.Series(R),var_x = pd.Series(D),q = max_lags, \n",
    "                                       significance_level = significance_level, standardize_data = standardize_data, \n",
    "                                                                   verbose = verbose) # does D cause R?"
   ]
  },
  {
   "cell_type": "markdown",
   "metadata": {},
   "source": [
    "We reject the null in favor of the alternative hypothesis, which states that D Granger causes R.\n",
    "\n",
    "**Now we check whether R causes D.**"
   ]
  },
  {
   "cell_type": "code",
   "execution_count": 7,
   "metadata": {
    "scrolled": false
   },
   "outputs": [
    {
     "name": "stdout",
     "output_type": "stream",
     "text": [
      "Testing for bivariate Granger causality.\n",
      "Restricted Model:\n",
      "p-value of the F-test for a joint linear hypothesis = 1.7585182585348287e-66\n",
      "R squared value of the model = 0.46438761854719246\n",
      "--------------------------------------------------------------------------------------------\n",
      "Unrestricted Model:\n",
      "p-value of the F-test for a joint linear hypothesis = 1.638120047282692e-63\n",
      "R squared value of the model = 0.46527349527986395\n",
      "--------------------------------------------------------------------------------------------\n",
      "F test: Test statistic = 0.2705929075750228, Critical value = 2.6231001100089393\n",
      "Fail to reject null hypothesis.\n"
     ]
    }
   ],
   "source": [
    "granger_cause_RD, reg_unrestricted_RD = bivariate_granger_causality(var_y = pd.Series(D),var_x = pd.Series(R),q = max_lags, \n",
    "                                        significance_level = significance_level, standardize_data = standardize_data, \n",
    "                                                                    verbose = verbose) # does R cause D?"
   ]
  },
  {
   "cell_type": "markdown",
   "metadata": {},
   "source": [
    "We fail to reject the null hypothesis."
   ]
  },
  {
   "cell_type": "markdown",
   "metadata": {},
   "source": [
    "The above tests suggest that D is a Granger cause of R as expected. Now we can look at the unrestricted model predicting R to identify predictors with statistically significant regression coefficients."
   ]
  },
  {
   "cell_type": "code",
   "execution_count": 8,
   "metadata": {},
   "outputs": [
    {
     "name": "stdout",
     "output_type": "stream",
     "text": [
      "                            OLS Regression Results                            \n",
      "==============================================================================\n",
      "Dep. Variable:                      y   R-squared:                       0.921\n",
      "Model:                            OLS   Adj. R-squared:                  0.920\n",
      "Method:                 Least Squares   F-statistic:                     947.1\n",
      "Date:                Thu, 07 Nov 2019   Prob (F-statistic):          7.01e-266\n",
      "Time:                        15:38:35   Log-Likelihood:                -75.648\n",
      "No. Observations:                 497   AIC:                             165.3\n",
      "Df Residuals:                     490   BIC:                             194.8\n",
      "Df Model:                           6                                         \n",
      "Covariance Type:            nonrobust                                         \n",
      "==============================================================================\n",
      "                 coef    std err          t      P>|t|      [0.025      0.975]\n",
      "------------------------------------------------------------------------------\n",
      "const      -8.674e-18      0.013  -6.81e-16      1.000      -0.025       0.025\n",
      "x1             0.0315      0.045      0.699      0.485      -0.057       0.120\n",
      "x2            -0.0253      0.045     -0.559      0.576      -0.114       0.064\n",
      "x3            -0.0189      0.017     -1.116      0.265      -0.052       0.014\n",
      "x4             0.9464      0.017     54.441      0.000       0.912       0.981\n",
      "x5            -0.0030      0.048     -0.063      0.950      -0.097       0.091\n",
      "x6             0.0228      0.047      0.481      0.631      -0.070       0.116\n",
      "==============================================================================\n",
      "Omnibus:                        1.762   Durbin-Watson:                   2.004\n",
      "Prob(Omnibus):                  0.414   Jarque-Bera (JB):                1.553\n",
      "Skew:                          -0.097   Prob(JB):                        0.460\n",
      "Kurtosis:                       3.192   Cond. No.                         10.4\n",
      "==============================================================================\n",
      "\n",
      "Warnings:\n",
      "[1] Standard Errors assume that the covariance matrix of the errors is correctly specified.\n"
     ]
    }
   ],
   "source": [
    "print(reg_unrestricted_DR.summary())"
   ]
  },
  {
   "cell_type": "markdown",
   "metadata": {},
   "source": [
    "### Monte Carlo Simulations for different $\\alpha$ and $\\gamma$ values"
   ]
  },
  {
   "cell_type": "markdown",
   "metadata": {},
   "source": [
    "In this section, we look at the Granger causality results for different $\\alpha$ and $\\gamma$ parameters. We also use a Monte Carlo simulation to account for the randomization of noise variables in the `generate_sample_data` function. McGraw and Barnes (2018) show the utility of the Granger causality approach compared to simple lagged regression that is commonly used in atmospheric sciences. See journal paper for a detailed interpretation of results."
   ]
  },
  {
   "cell_type": "code",
   "execution_count": 9,
   "metadata": {},
   "outputs": [],
   "source": [
    "num_monte_carlo = 100 # number of simulations\n",
    "num_steps = 20\n",
    "alpha = np.linspace(0,0.95,num_steps) \n",
    "gamma = np.linspace(0.005,10,num_steps) \n",
    "max_lags = 3 # maximum number of lags\n",
    "significance_level = 0.05 # alpha value for statistical testing\n",
    "standardize_data = True\n",
    "verbose = False # set to True to see the intermediate steps printed out"
   ]
  },
  {
   "cell_type": "code",
   "execution_count": 10,
   "metadata": {},
   "outputs": [],
   "source": [
    "causality_map_DR = np.zeros((len(alpha),len(gamma)))\n",
    "causality_map_RD = np.zeros((len(alpha),len(gamma)))\n",
    "\n",
    "for i in range(len(alpha)):\n",
    "    for j in range(len(gamma)):\n",
    "        \n",
    "        granger_cause_RD_overall = 0\n",
    "        granger_cause_DR_overall = 0\n",
    "        \n",
    "        for simulation in range(num_monte_carlo):\n",
    "            [D,R] = generate_sample_data(alpha = alpha[i], tau = 1, gamma = gamma[j], num_samples = 550, num_drop = 50)\n",
    "            \n",
    "            try:\n",
    "                # does R cause D?\n",
    "                granger_cause_RD, reg_unrestricted_RD = bivariate_granger_causality(var_y = pd.Series(D),\n",
    "                                                    var_x = pd.Series(R),q = max_lags, \n",
    "                                                    significance_level = significance_level,\n",
    "                                                    standardize_data = standardize_data, verbose = verbose) \n",
    "                if(granger_cause_RD == 1):\n",
    "                    granger_cause_RD_overall += granger_cause_RD\n",
    "\n",
    "                # does D cause R?\n",
    "                granger_cause_DR, reg_unrestricted_DR =bivariate_granger_causality(var_y = pd.Series(R),\n",
    "                                                    var_x = pd.Series(D),q = max_lags, \n",
    "                                                    significance_level = significance_level, \n",
    "                                                    standardize_data = standardize_data, verbose = verbose) \n",
    "                if(granger_cause_DR == 1):\n",
    "                    granger_cause_DR_overall += granger_cause_DR\n",
    "            except:\n",
    "                print(\"An exception occurred at alpha {} and gamma {}\".format(alpha[i],gamma[j]))\n",
    "            \n",
    "        causality_map_DR[i,j] = np.copy(granger_cause_DR_overall)\n",
    "        causality_map_RD[i,j] = np.copy(granger_cause_RD_overall)\n"
   ]
  },
  {
   "cell_type": "code",
   "execution_count": 11,
   "metadata": {},
   "outputs": [],
   "source": [
    "def visualize_monte_carlo_results(gamma, alpha, causality_map,num_monte_carlo):\n",
    "    \n",
    "    fig = plt.figure(figsize=(6,5))\n",
    "    gamma_grid, alpha_grid = np.meshgrid(gamma, alpha)\n",
    "    cp = plt.pcolor(gamma_grid, alpha_grid, causality_map*100/num_monte_carlo, cmap='pink_r')\n",
    "    plt.xlabel('gamma')\n",
    "    plt.ylabel('alpha')\n",
    "    cbar = plt.colorbar(cp)\n",
    "    cbar.ax.set_ylabel('%')\n",
    "    plt.clim((0,100))\n",
    "    plt.show()"
   ]
  },
  {
   "cell_type": "markdown",
   "metadata": {},
   "source": [
    "**Does D cause R?**"
   ]
  },
  {
   "cell_type": "code",
   "execution_count": 12,
   "metadata": {
    "scrolled": true
   },
   "outputs": [
    {
     "data": {
      "image/png": "[encoded data removed]",
      "text/plain": [
       "<Figure size 432x360 with 2 Axes>"
      ]
     },
     "metadata": {
      "needs_background": "light"
     },
     "output_type": "display_data"
    }
   ],
   "source": [
    "visualize_monte_carlo_results(gamma, alpha, causality_map_DR,num_monte_carlo)"
   ]
  },
  {
   "cell_type": "markdown",
   "metadata": {},
   "source": [
    "We see that the true positive rate reduces as the data becomes noisier."
   ]
  },
  {
   "cell_type": "markdown",
   "metadata": {},
   "source": [
    "**Does R cause D?**"
   ]
  },
  {
   "cell_type": "code",
   "execution_count": 13,
   "metadata": {
    "scrolled": true
   },
   "outputs": [
    {
     "data": {
      "image/png": "[encoded data removed]",
      "text/plain": [
       "<Figure size 432x360 with 2 Axes>"
      ]
     },
     "metadata": {
      "needs_background": "light"
     },
     "output_type": "display_data"
    }
   ],
   "source": [
    "visualize_monte_carlo_results(gamma, alpha, causality_map_RD,num_monte_carlo)"
   ]
  },
  {
   "cell_type": "markdown",
   "metadata": {},
   "source": [
    "There are some false positives, but the rate is low."
   ]
  },
  {
   "cell_type": "markdown",
   "metadata": {},
   "source": [
    "### Final Remarks\n",
    "\n",
    "* It should be noted that we can only identify 'potential' cause-effect relationships using the Granger causality approach. This method may identify spurious relationships in the presence of hidden common causes. A variable Z that has not been included in the study is called a hidden common cause if it causes both X and Y.\n",
    "\n",
    "* Even though not explained in this notebook, it is encouraged to do out-of-sample testing to mitigate problems related to overfitting to training data. Attanasio, A, 2012, discusses how to do out-of-sample testing as well as how to do statistical testing for non-stationary data. \n",
    "\n",
    "* As mentioned before, the restricted and unrestricted models can be created using appropriate nonlinear methods. This will allow us to identify both linear and nonlinear Granger causes. See Papagiannopoulou et. al., 2017,  for example."
   ]
  },
  {
   "cell_type": "markdown",
   "metadata": {},
   "source": [
    "### References\n",
    "Attanasio, A., Testing for linear Granger causality from natural/anthropogenic forcings to global temperature anomalies, Theor Appl Climatol (2012) 110: 281. https://doi.org/10.1007/s00704-012-0634-x\n",
    "\n",
    "McGraw, M.C. and E.A. Barnes, Memory Matters: A Case for Granger Causality in Climate Variability Studies. J. Climate (2018), 31, 3289–3300, https://doi.org/10.1175/JCLI-D-17-0334.1\n",
    "\n",
    "Papagiannopoulou, C., Miralles, D. G., Decubber, S., Demuzere, M., Verhoest, N. E. C., Dorigo, W. A., and Waegeman, W.: A non-linear Granger-causality framework to investigate climate–vegetation dynamics, Geosci. Model Dev., 10, 1945–1960, https://doi.org/10.5194/gmd-10-1945-2017, 2017.\n"
   ]
  }
 ],
 "metadata": {
  "kernelspec": {
   "display_name": "Python 3",
   "language": "python",
   "name": "python3"
  },
  "language_info": {
   "codemirror_mode": {
    "name": "ipython",
    "version": 3
   },
   "file_extension": ".py",
   "mimetype": "text/x-python",
   "name": "python",
   "nbconvert_exporter": "python",
   "pygments_lexer": "ipython3",
   "version": "3.7.1"
  }
 },
 "nbformat": 4,
 "nbformat_minor": 2
}
