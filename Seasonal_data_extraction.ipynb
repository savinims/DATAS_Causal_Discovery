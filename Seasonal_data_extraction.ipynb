{
 "cells": [
  {
   "cell_type": "markdown",
   "metadata": {},
   "source": [
    "This notebook provides an example of how the `selective` argument in the `create_data_matrix_for_pc` function can be used to restrict the study to a specific time frame or season of interest."
   ]
  },
  {
   "cell_type": "code",
   "execution_count": 1,
   "metadata": {},
   "outputs": [],
   "source": [
    "import numpy as np\n",
    "import pandas as pd\n",
    "from scipy.io import loadmat"
   ]
  },
  {
   "cell_type": "markdown",
   "metadata": {},
   "source": [
    "Here we use sample data stored in the *sample_data.mat* matrix. The variables in this matrix `var1` and `var2` have already been detrended. The `time` variable contains the Year, Month and Day of each time sample."
   ]
  },
  {
   "cell_type": "code",
   "execution_count": 2,
   "metadata": {},
   "outputs": [],
   "source": [
    "# load sample data\n",
    "input_mat = loadmat('sample_data.mat')\n",
    "var1 = input_mat['var1']\n",
    "var2 = input_mat['var2']\n",
    "time = input_mat['time']"
   ]
  },
  {
   "cell_type": "code",
   "execution_count": 3,
   "metadata": {},
   "outputs": [
    {
     "data": {
      "text/html": [
       "<div>\n",
       "<style scoped>\n",
       "    .dataframe tbody tr th:only-of-type {\n",
       "        vertical-align: middle;\n",
       "    }\n",
       "\n",
       "    .dataframe tbody tr th {\n",
       "        vertical-align: top;\n",
       "    }\n",
       "\n",
       "    .dataframe thead th {\n",
       "        text-align: right;\n",
       "    }\n",
       "</style>\n",
       "<table border=\"1\" class=\"dataframe\">\n",
       "  <thead>\n",
       "    <tr style=\"text-align: right;\">\n",
       "      <th></th>\n",
       "      <th>Year</th>\n",
       "      <th>Month</th>\n",
       "      <th>Day</th>\n",
       "    </tr>\n",
       "  </thead>\n",
       "  <tbody>\n",
       "    <tr>\n",
       "      <th>0</th>\n",
       "      <td>402</td>\n",
       "      <td>1</td>\n",
       "      <td>2</td>\n",
       "    </tr>\n",
       "    <tr>\n",
       "      <th>1</th>\n",
       "      <td>402</td>\n",
       "      <td>1</td>\n",
       "      <td>7</td>\n",
       "    </tr>\n",
       "    <tr>\n",
       "      <th>2</th>\n",
       "      <td>402</td>\n",
       "      <td>1</td>\n",
       "      <td>12</td>\n",
       "    </tr>\n",
       "    <tr>\n",
       "      <th>3</th>\n",
       "      <td>402</td>\n",
       "      <td>1</td>\n",
       "      <td>17</td>\n",
       "    </tr>\n",
       "    <tr>\n",
       "      <th>4</th>\n",
       "      <td>402</td>\n",
       "      <td>1</td>\n",
       "      <td>22</td>\n",
       "    </tr>\n",
       "    <tr>\n",
       "      <th>5</th>\n",
       "      <td>402</td>\n",
       "      <td>1</td>\n",
       "      <td>27</td>\n",
       "    </tr>\n",
       "    <tr>\n",
       "      <th>6</th>\n",
       "      <td>402</td>\n",
       "      <td>2</td>\n",
       "      <td>1</td>\n",
       "    </tr>\n",
       "    <tr>\n",
       "      <th>7</th>\n",
       "      <td>402</td>\n",
       "      <td>2</td>\n",
       "      <td>6</td>\n",
       "    </tr>\n",
       "    <tr>\n",
       "      <th>8</th>\n",
       "      <td>402</td>\n",
       "      <td>2</td>\n",
       "      <td>11</td>\n",
       "    </tr>\n",
       "    <tr>\n",
       "      <th>9</th>\n",
       "      <td>402</td>\n",
       "      <td>2</td>\n",
       "      <td>16</td>\n",
       "    </tr>\n",
       "  </tbody>\n",
       "</table>\n",
       "</div>"
      ],
      "text/plain": [
       "   Year  Month  Day\n",
       "0   402      1    2\n",
       "1   402      1    7\n",
       "2   402      1   12\n",
       "3   402      1   17\n",
       "4   402      1   22\n",
       "5   402      1   27\n",
       "6   402      2    1\n",
       "7   402      2    6\n",
       "8   402      2   11\n",
       "9   402      2   16"
      ]
     },
     "execution_count": 3,
     "metadata": {},
     "output_type": "execute_result"
    }
   ],
   "source": [
    "time_df = pd.DataFrame(time, columns = ['Year', 'Month', 'Day'])\n",
    "time_df.head(10) # view the first 10 entries"
   ]
  },
  {
   "cell_type": "code",
   "execution_count": 4,
   "metadata": {},
   "outputs": [],
   "source": [
    "data = np.hstack((var1.T, var2.T)) # N_samples x N_vars ndarray\n",
    "[num_total_samples, num_vars] = np.shape(data)"
   ]
  },
  {
   "cell_type": "markdown",
   "metadata": {},
   "source": [
    "In this example, we restrict our study to the winter season (Dec, Jan, Feb) by setting the `months_of_season = [12,1,2]`. "
   ]
  },
  {
   "cell_type": "code",
   "execution_count": 5,
   "metadata": {},
   "outputs": [],
   "source": [
    "# user defined parameters\n",
    "months_of_season = [12,1,2] # the months to be used for the study\n",
    "num_plus_minus_shifts = 3 # number of shifts in the positive or negative directions\n",
    "num_shifts = 2*num_plus_minus_shifts # total number of time shifted variables\n",
    "shift_dist = 1 # shift distance (D)\n",
    "\n",
    "num_tiers = num_shifts+1 # number of tiers\n",
    "num_nodes = num_tiers * num_vars # number of nodes in the graphical model"
   ]
  },
  {
   "cell_type": "code",
   "execution_count": 6,
   "metadata": {},
   "outputs": [],
   "source": [
    "def create_data_matrix_for_pc(standardize = True, **kwargs):\n",
    "\n",
    "    \"\"\"\n",
    "    Creates the input matrix for the PC stable algorithm. This function\n",
    "    (1) Creates time shifted versions of the variables. \n",
    "    (2) The user can optionally specify the indices that should be used in the study\n",
    "        by passing 'selective' and 'select_idx'. \n",
    "    (2) Standardizes each variable based on user preference.     \n",
    "    \"\"\"\n",
    "    \n",
    "    selective = kwargs.get('selective', None)\n",
    "    select_idx = kwargs.get('select_idx', None)\n",
    "     \n",
    "    def create_time_shifted_matrix():\n",
    "        \n",
    "        \"Creates a matrix containing time shifted versions of the variables as in Figure 1.\"\n",
    "        \n",
    "        num_samples_time_shifted_matrix = num_total_samples-num_shifts*shift_dist\n",
    "        time_shifted_matrix = np.empty((num_samples_time_shifted_matrix, num_nodes)) # initialize\n",
    "        for i in range(num_tiers):\n",
    "            start_time_for_tier = shift_dist*i\n",
    "            end_time_for_tier = num_total_samples - shift_dist*(num_shifts-i)\n",
    "            current_cols = range(i*num_vars,(i+1)*num_vars)\n",
    "            time_shifted_matrix[:, current_cols] = data[start_time_for_tier : end_time_for_tier,:] \n",
    "\n",
    "        return time_shifted_matrix\n",
    "    \n",
    "    def standardize_data(data):\n",
    "        \n",
    "        \"Standardizes the data of each node\"\n",
    "        \n",
    "        means = data.mean(axis=0)\n",
    "        stds = data.std(axis=0)\n",
    "    \n",
    "        return (data - means) / stds \n",
    "       \n",
    "\n",
    "    time_shifted_matrix = create_time_shifted_matrix()\n",
    "   \n",
    "    if(selective):\n",
    "        select_matrix  = time_shifted_matrix[select_idx]\n",
    "    else:\n",
    "        select_matrix  = time_shifted_matrix\n",
    "\n",
    "    if(standardize):\n",
    "        pc_data = standardize_data(select_matrix) \n",
    "        \n",
    "    else:\n",
    "        pc_data = select_matrix\n",
    "        \n",
    "    return pc_data"
   ]
  },
  {
   "cell_type": "markdown",
   "metadata": {},
   "source": [
    "The time window we use for this study is centered around Dec, Jan, and Feb, resulting in some samples from Nov and Mar also included in the analysis.\n",
    "\n",
    "We can set the `selective` argument to **True** and provide `select_idx` to the `create_data_matrix_for_pc` function to ensure that only specific rows of the `time_shifted_matrix` are used for the study."
   ]
  },
  {
   "cell_type": "code",
   "execution_count": 7,
   "metadata": {},
   "outputs": [],
   "source": [
    "# idx = indices corresponding to the middle of the window (i.e., time 't')\n",
    "idx = range(shift_dist*num_plus_minus_shifts , num_total_samples-shift_dist*num_plus_minus_shifts)\n",
    "months = time[:,1][idx] # month of the indices in idx\n",
    "mask = np.in1d(months, months_of_season) # check whether the month belongs to the months_of_season\n",
    "season_idx = np.where(mask) # the row indices of time_shifted_matrix that should be used for the study"
   ]
  },
  {
   "cell_type": "code",
   "execution_count": 8,
   "metadata": {},
   "outputs": [],
   "source": [
    "pc_data = create_data_matrix_for_pc(standardize = True, selective = True, select_idx = season_idx)"
   ]
  }
 ],
 "metadata": {
  "kernelspec": {
   "display_name": "Python 3",
   "language": "python",
   "name": "python3"
  },
  "language_info": {
   "codemirror_mode": {
    "name": "ipython",
    "version": 3
   },
   "file_extension": ".py",
   "mimetype": "text/x-python",
   "name": "python",
   "nbconvert_exporter": "python",
   "pygments_lexer": "ipython3",
   "version": "3.7.1"
  }
 },
 "nbformat": 4,
 "nbformat_minor": 1
}
